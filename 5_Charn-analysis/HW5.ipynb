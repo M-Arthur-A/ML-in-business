{
 "cells": [
  {
   "cell_type": "code",
   "execution_count": 1,
   "metadata": {},
   "outputs": [],
   "source": [
    "import pandas as pd\n",
    "import numpy as np\n",
    "import matplotlib.pyplot as plt\n",
    "import itertools\n",
    "%matplotlib inline\n",
    "import seaborn as sns\n",
    "from sklearn.model_selection import cross_val_score, train_test_split, GridSearchCV, KFold\n",
    "from sklearn.linear_model import LogisticRegression\n",
    "from sklearn.base import BaseEstimator, TransformerMixin\n",
    "from sklearn.preprocessing import StandardScaler\n",
    "from sklearn.pipeline import Pipeline, make_pipeline, FeatureUnion\n",
    "from sklearn.ensemble import RandomForestClassifier, GradientBoostingClassifier\n",
    "from sklearn.metrics import precision_recall_curve, roc_curve, roc_auc_score, log_loss, confusion_matrix"
   ]
  },
  {
   "cell_type": "code",
   "execution_count": 2,
   "metadata": {},
   "outputs": [],
   "source": [
    "path = '../!ADDS/lection5_materials/churn_data.csv'"
   ]
  },
  {
   "cell_type": "code",
   "execution_count": 3,
   "metadata": {},
   "outputs": [
    {
     "data": {
      "text/html": [
       "<div>\n",
       "<style scoped>\n",
       "    .dataframe tbody tr th:only-of-type {\n",
       "        vertical-align: middle;\n",
       "    }\n",
       "\n",
       "    .dataframe tbody tr th {\n",
       "        vertical-align: top;\n",
       "    }\n",
       "\n",
       "    .dataframe thead th {\n",
       "        text-align: right;\n",
       "    }\n",
       "</style>\n",
       "<table border=\"1\" class=\"dataframe\">\n",
       "  <thead>\n",
       "    <tr style=\"text-align: right;\">\n",
       "      <th></th>\n",
       "      <th>RowNumber</th>\n",
       "      <th>CustomerId</th>\n",
       "      <th>Surname</th>\n",
       "      <th>CreditScore</th>\n",
       "      <th>Geography</th>\n",
       "      <th>Gender</th>\n",
       "      <th>Age</th>\n",
       "      <th>Tenure</th>\n",
       "      <th>Balance</th>\n",
       "      <th>NumOfProducts</th>\n",
       "      <th>HasCrCard</th>\n",
       "      <th>IsActiveMember</th>\n",
       "      <th>EstimatedSalary</th>\n",
       "      <th>Exited</th>\n",
       "    </tr>\n",
       "  </thead>\n",
       "  <tbody>\n",
       "    <tr>\n",
       "      <th>0</th>\n",
       "      <td>1</td>\n",
       "      <td>15634602</td>\n",
       "      <td>Hargrave</td>\n",
       "      <td>619</td>\n",
       "      <td>France</td>\n",
       "      <td>Female</td>\n",
       "      <td>42</td>\n",
       "      <td>2</td>\n",
       "      <td>0.00</td>\n",
       "      <td>1</td>\n",
       "      <td>1</td>\n",
       "      <td>1</td>\n",
       "      <td>101348.88</td>\n",
       "      <td>1</td>\n",
       "    </tr>\n",
       "    <tr>\n",
       "      <th>1</th>\n",
       "      <td>2</td>\n",
       "      <td>15647311</td>\n",
       "      <td>Hill</td>\n",
       "      <td>608</td>\n",
       "      <td>Spain</td>\n",
       "      <td>Female</td>\n",
       "      <td>41</td>\n",
       "      <td>1</td>\n",
       "      <td>83807.86</td>\n",
       "      <td>1</td>\n",
       "      <td>0</td>\n",
       "      <td>1</td>\n",
       "      <td>112542.58</td>\n",
       "      <td>0</td>\n",
       "    </tr>\n",
       "    <tr>\n",
       "      <th>2</th>\n",
       "      <td>3</td>\n",
       "      <td>15619304</td>\n",
       "      <td>Onio</td>\n",
       "      <td>502</td>\n",
       "      <td>France</td>\n",
       "      <td>Female</td>\n",
       "      <td>42</td>\n",
       "      <td>8</td>\n",
       "      <td>159660.80</td>\n",
       "      <td>3</td>\n",
       "      <td>1</td>\n",
       "      <td>0</td>\n",
       "      <td>113931.57</td>\n",
       "      <td>1</td>\n",
       "    </tr>\n",
       "  </tbody>\n",
       "</table>\n",
       "</div>"
      ],
      "text/plain": [
       "   RowNumber  CustomerId   Surname  CreditScore Geography  Gender  Age  \\\n",
       "0          1    15634602  Hargrave          619    France  Female   42   \n",
       "1          2    15647311      Hill          608     Spain  Female   41   \n",
       "2          3    15619304      Onio          502    France  Female   42   \n",
       "\n",
       "   Tenure    Balance  NumOfProducts  HasCrCard  IsActiveMember  \\\n",
       "0       2       0.00              1          1               1   \n",
       "1       1   83807.86              1          0               1   \n",
       "2       8  159660.80              3          1               0   \n",
       "\n",
       "   EstimatedSalary  Exited  \n",
       "0        101348.88       1  \n",
       "1        112542.58       0  \n",
       "2        113931.57       1  "
      ]
     },
     "execution_count": 3,
     "metadata": {},
     "output_type": "execute_result"
    }
   ],
   "source": [
    "df = pd.read_csv(path)\n",
    "df.head(3)"
   ]
  },
  {
   "cell_type": "code",
   "execution_count": 4,
   "metadata": {},
   "outputs": [],
   "source": [
    "#разделим данные на train/test\n",
    "X_train, X_test, y_train, y_test = train_test_split(df, df['Exited'], random_state=0)"
   ]
  },
  {
   "cell_type": "markdown",
   "metadata": {},
   "source": [
    "- Категориальные признаки закодируем с помощью OneHotEncoding\n",
    "- Вещественные оставим пока как есть"
   ]
  },
  {
   "cell_type": "code",
   "execution_count": 5,
   "metadata": {},
   "outputs": [],
   "source": [
    "#соберем наш простой pipeline, но нам понадобится написать класс для выбора нужного поля\n",
    "class FeatureSelector(BaseEstimator, TransformerMixin):\n",
    "    def __init__(self, column):\n",
    "        self.column = column\n",
    "\n",
    "    def fit(self, X, y=None):\n",
    "        return self\n",
    "\n",
    "    def transform(self, X, y=None):\n",
    "        return X[self.column]\n",
    "    \n",
    "class NumberSelector(BaseEstimator, TransformerMixin):\n",
    "    \"\"\"\n",
    "    Transformer to select a single column from the data frame to perform additional transformations on\n",
    "    Use on numeric columns in the data\n",
    "    \"\"\"\n",
    "    def __init__(self, key):\n",
    "        self.key = key\n",
    "\n",
    "    def fit(self, X, y=None):\n",
    "        return self\n",
    "\n",
    "    def transform(self, X):\n",
    "        return X[[self.key]]\n",
    "    \n",
    "class OHEEncoder(BaseEstimator, TransformerMixin):\n",
    "    def __init__(self, key):\n",
    "        self.key = key\n",
    "        self.columns = []\n",
    "\n",
    "    def fit(self, X, y=None):\n",
    "        self.columns = [col for col in pd.get_dummies(X, prefix=self.key).columns]\n",
    "        return self\n",
    "\n",
    "    def transform(self, X):\n",
    "        X = pd.get_dummies(X, prefix=self.key)\n",
    "        test_columns = [col for col in X.columns]\n",
    "        for col_ in self.columns:\n",
    "            if col_ not in test_columns:\n",
    "                X[col_] = 0\n",
    "        return X[self.columns]"
   ]
  },
  {
   "cell_type": "code",
   "execution_count": 6,
   "metadata": {},
   "outputs": [
    {
     "data": {
      "text/html": [
       "<div>\n",
       "<style scoped>\n",
       "    .dataframe tbody tr th:only-of-type {\n",
       "        vertical-align: middle;\n",
       "    }\n",
       "\n",
       "    .dataframe tbody tr th {\n",
       "        vertical-align: top;\n",
       "    }\n",
       "\n",
       "    .dataframe thead th {\n",
       "        text-align: right;\n",
       "    }\n",
       "</style>\n",
       "<table border=\"1\" class=\"dataframe\">\n",
       "  <thead>\n",
       "    <tr style=\"text-align: right;\">\n",
       "      <th></th>\n",
       "      <th>RowNumber</th>\n",
       "      <th>CustomerId</th>\n",
       "      <th>Surname</th>\n",
       "      <th>CreditScore</th>\n",
       "      <th>Geography</th>\n",
       "      <th>Gender</th>\n",
       "      <th>Age</th>\n",
       "      <th>Tenure</th>\n",
       "      <th>Balance</th>\n",
       "      <th>NumOfProducts</th>\n",
       "      <th>HasCrCard</th>\n",
       "      <th>IsActiveMember</th>\n",
       "      <th>EstimatedSalary</th>\n",
       "      <th>Exited</th>\n",
       "    </tr>\n",
       "  </thead>\n",
       "  <tbody>\n",
       "    <tr>\n",
       "      <th>0</th>\n",
       "      <td>1</td>\n",
       "      <td>15634602</td>\n",
       "      <td>Hargrave</td>\n",
       "      <td>619</td>\n",
       "      <td>France</td>\n",
       "      <td>Female</td>\n",
       "      <td>42</td>\n",
       "      <td>2</td>\n",
       "      <td>0.00</td>\n",
       "      <td>1</td>\n",
       "      <td>1</td>\n",
       "      <td>1</td>\n",
       "      <td>101348.88</td>\n",
       "      <td>1</td>\n",
       "    </tr>\n",
       "    <tr>\n",
       "      <th>1</th>\n",
       "      <td>2</td>\n",
       "      <td>15647311</td>\n",
       "      <td>Hill</td>\n",
       "      <td>608</td>\n",
       "      <td>Spain</td>\n",
       "      <td>Female</td>\n",
       "      <td>41</td>\n",
       "      <td>1</td>\n",
       "      <td>83807.86</td>\n",
       "      <td>1</td>\n",
       "      <td>0</td>\n",
       "      <td>1</td>\n",
       "      <td>112542.58</td>\n",
       "      <td>0</td>\n",
       "    </tr>\n",
       "    <tr>\n",
       "      <th>2</th>\n",
       "      <td>3</td>\n",
       "      <td>15619304</td>\n",
       "      <td>Onio</td>\n",
       "      <td>502</td>\n",
       "      <td>France</td>\n",
       "      <td>Female</td>\n",
       "      <td>42</td>\n",
       "      <td>8</td>\n",
       "      <td>159660.80</td>\n",
       "      <td>3</td>\n",
       "      <td>1</td>\n",
       "      <td>0</td>\n",
       "      <td>113931.57</td>\n",
       "      <td>1</td>\n",
       "    </tr>\n",
       "  </tbody>\n",
       "</table>\n",
       "</div>"
      ],
      "text/plain": [
       "   RowNumber  CustomerId   Surname  CreditScore Geography  Gender  Age  \\\n",
       "0          1    15634602  Hargrave          619    France  Female   42   \n",
       "1          2    15647311      Hill          608     Spain  Female   41   \n",
       "2          3    15619304      Onio          502    France  Female   42   \n",
       "\n",
       "   Tenure    Balance  NumOfProducts  HasCrCard  IsActiveMember  \\\n",
       "0       2       0.00              1          1               1   \n",
       "1       1   83807.86              1          0               1   \n",
       "2       8  159660.80              3          1               0   \n",
       "\n",
       "   EstimatedSalary  Exited  \n",
       "0        101348.88       1  \n",
       "1        112542.58       0  \n",
       "2        113931.57       1  "
      ]
     },
     "execution_count": 6,
     "metadata": {},
     "output_type": "execute_result"
    }
   ],
   "source": [
    "df.head(3)"
   ]
  },
  {
   "cell_type": "markdown",
   "metadata": {},
   "source": [
    "Зададим списки признаков"
   ]
  },
  {
   "cell_type": "code",
   "execution_count": 7,
   "metadata": {},
   "outputs": [],
   "source": [
    "categorical_columns = ['Geography', 'Gender', 'Tenure', 'HasCrCard', 'IsActiveMember']\n",
    "continuous_columns = ['CreditScore', 'Age', 'Balance', 'NumOfProducts', 'EstimatedSalary']"
   ]
  },
  {
   "cell_type": "markdown",
   "metadata": {},
   "source": [
    "Посмотрим как это работает на примере отдельного категориального признака - Gender"
   ]
  },
  {
   "cell_type": "code",
   "execution_count": 8,
   "metadata": {},
   "outputs": [
    {
     "data": {
      "text/html": [
       "<div>\n",
       "<style scoped>\n",
       "    .dataframe tbody tr th:only-of-type {\n",
       "        vertical-align: middle;\n",
       "    }\n",
       "\n",
       "    .dataframe tbody tr th {\n",
       "        vertical-align: top;\n",
       "    }\n",
       "\n",
       "    .dataframe thead th {\n",
       "        text-align: right;\n",
       "    }\n",
       "</style>\n",
       "<table border=\"1\" class=\"dataframe\">\n",
       "  <thead>\n",
       "    <tr style=\"text-align: right;\">\n",
       "      <th></th>\n",
       "      <th>Gender_Female</th>\n",
       "      <th>Gender_Male</th>\n",
       "    </tr>\n",
       "  </thead>\n",
       "  <tbody>\n",
       "    <tr>\n",
       "      <th>9394</th>\n",
       "      <td>1</td>\n",
       "      <td>0</td>\n",
       "    </tr>\n",
       "    <tr>\n",
       "      <th>898</th>\n",
       "      <td>1</td>\n",
       "      <td>0</td>\n",
       "    </tr>\n",
       "    <tr>\n",
       "      <th>2398</th>\n",
       "      <td>1</td>\n",
       "      <td>0</td>\n",
       "    </tr>\n",
       "  </tbody>\n",
       "</table>\n",
       "</div>"
      ],
      "text/plain": [
       "      Gender_Female  Gender_Male\n",
       "9394              1            0\n",
       "898               1            0\n",
       "2398              1            0"
      ]
     },
     "execution_count": 8,
     "metadata": {},
     "output_type": "execute_result"
    }
   ],
   "source": [
    "gender = Pipeline([\n",
    "                ('selector', FeatureSelector(column='Gender')),\n",
    "                ('ohe', OHEEncoder(key='Gender'))\n",
    "            ])\n",
    "gender.fit(X_train)\n",
    "gender.transform(X_test).head(3)"
   ]
  },
  {
   "cell_type": "markdown",
   "metadata": {},
   "source": [
    "Теперь нам нужно под каждый признак создать трансформер и объединить их в список (сделаем это в цикле, чтобы не мучиться)"
   ]
  },
  {
   "cell_type": "code",
   "execution_count": 9,
   "metadata": {},
   "outputs": [],
   "source": [
    "final_transformers = list()\n",
    "\n",
    "for cat_col in categorical_columns:\n",
    "    cat_transformer = Pipeline([\n",
    "                ('selector', FeatureSelector(column=cat_col)),\n",
    "                ('ohe', OHEEncoder(key=cat_col))\n",
    "            ])\n",
    "    final_transformers.append((cat_col, cat_transformer))\n",
    "    \n",
    "for cont_col in continuous_columns:\n",
    "    cont_transformer = Pipeline([\n",
    "                ('selector', NumberSelector(key=cont_col)),\n",
    "                ('standard', StandardScaler())\n",
    "            ])\n",
    "    final_transformers.append((cont_col, cont_transformer))"
   ]
  },
  {
   "cell_type": "markdown",
   "metadata": {},
   "source": [
    "Объединим все это в единый пайплайн"
   ]
  },
  {
   "cell_type": "code",
   "execution_count": 10,
   "metadata": {},
   "outputs": [],
   "source": [
    "feats = FeatureUnion(final_transformers)\n",
    "\n",
    "feature_processing = Pipeline([('feats', feats)])"
   ]
  },
  {
   "cell_type": "markdown",
   "metadata": {},
   "source": [
    "Теперь у нас есть пайплайн, который готовит признаки для моделирования.\n",
    "\n",
    "Добавим модель"
   ]
  },
  {
   "cell_type": "code",
   "execution_count": 11,
   "metadata": {},
   "outputs": [],
   "source": [
    "pipeline = Pipeline([\n",
    "    ('features',feats),\n",
    "    ('classifier', RandomForestClassifier(random_state = 42)),\n",
    "])"
   ]
  },
  {
   "cell_type": "markdown",
   "metadata": {},
   "source": [
    "Обучим модель"
   ]
  },
  {
   "cell_type": "code",
   "execution_count": 12,
   "metadata": {},
   "outputs": [
    {
     "data": {
      "text/plain": [
       "Pipeline(memory=None,\n",
       "         steps=[('features',\n",
       "                 FeatureUnion(n_jobs=None,\n",
       "                              transformer_list=[('Geography',\n",
       "                                                 Pipeline(memory=None,\n",
       "                                                          steps=[('selector',\n",
       "                                                                  FeatureSelector(column='Geography')),\n",
       "                                                                 ('ohe',\n",
       "                                                                  OHEEncoder(key='Geography'))],\n",
       "                                                          verbose=False)),\n",
       "                                                ('Gender',\n",
       "                                                 Pipeline(memory=None,\n",
       "                                                          steps=[('selector',\n",
       "                                                                  FeatureSelector(column='Gender')),\n",
       "                                                                 ('ohe',\n",
       "                                                                  OHEEncoder(key='Gender'))],\n",
       "                                                          verbos...\n",
       "                 RandomForestClassifier(bootstrap=True, ccp_alpha=0.0,\n",
       "                                        class_weight=None, criterion='gini',\n",
       "                                        max_depth=None, max_features='auto',\n",
       "                                        max_leaf_nodes=None, max_samples=None,\n",
       "                                        min_impurity_decrease=0.0,\n",
       "                                        min_impurity_split=None,\n",
       "                                        min_samples_leaf=1, min_samples_split=2,\n",
       "                                        min_weight_fraction_leaf=0.0,\n",
       "                                        n_estimators=100, n_jobs=None,\n",
       "                                        oob_score=False, random_state=42,\n",
       "                                        verbose=0, warm_start=False))],\n",
       "         verbose=False)"
      ]
     },
     "execution_count": 12,
     "metadata": {},
     "output_type": "execute_result"
    }
   ],
   "source": [
    "#обучим наш пайплайн\n",
    "pipeline.fit(X_train, y_train)"
   ]
  },
  {
   "cell_type": "code",
   "execution_count": 13,
   "metadata": {},
   "outputs": [
    {
     "data": {
      "text/plain": [
       "array([0.37, 0.26, 0.17, 0.02, 0.02, 0.67, 0.04, 0.12, 0.15, 0.75])"
      ]
     },
     "execution_count": 13,
     "metadata": {},
     "output_type": "execute_result"
    }
   ],
   "source": [
    "#наши прогнозы для тестовой выборки\n",
    "preds = pipeline.predict_proba(X_test)[:, 1]\n",
    "preds[:10]"
   ]
  },
  {
   "cell_type": "markdown",
   "metadata": {},
   "source": [
    "Также нам нужно от вероятностей перейти к меткам классов. Для этого нужно подобрать порог, после которого мы считаем, что объект можно отнести к классу 1 (если вероятность больше порога - размечаем объект как класс 1, если нет - класс 0)"
   ]
  },
  {
   "cell_type": "code",
   "execution_count": 14,
   "metadata": {},
   "outputs": [
    {
     "name": "stdout",
     "output_type": "stream",
     "text": [
      "Best Threshold=0.380000, F-Score=0.641, Precision=0.654, Recall=0.629\n"
     ]
    }
   ],
   "source": [
    "precision, recall, thresholds = precision_recall_curve(y_test, preds)\n",
    "\n",
    "fscore = (2 * precision * recall) / (precision + recall)\n",
    "# locate the index of the largest f score\n",
    "ix = np.argmax(fscore)\n",
    "print('Best Threshold=%f, F-Score=%.3f, Precision=%.3f, Recall=%.3f' % (thresholds[ix], \n",
    "                                                                        fscore[ix],\n",
    "                                                                        precision[ix],\n",
    "                                                                        recall[ix]))"
   ]
  },
  {
   "cell_type": "markdown",
   "metadata": {},
   "source": [
    "Отрисуем матрицу ошибок"
   ]
  },
  {
   "cell_type": "code",
   "execution_count": 15,
   "metadata": {},
   "outputs": [],
   "source": [
    "def plot_confusion_matrix(cm, classes,\n",
    "                          normalize=False,\n",
    "                          title='Confusion matrix',\n",
    "                          cmap=plt.cm.Blues):\n",
    "    \"\"\"\n",
    "    This function prints and plots the confusion matrix.\n",
    "    Normalization can be applied by setting `normalize=True`.\n",
    "    \"\"\"\n",
    "    plt.imshow(cm, interpolation='nearest', cmap=cmap)\n",
    "    plt.title(title)\n",
    "    plt.colorbar()\n",
    "    tick_marks = np.arange(len(classes))\n",
    "    plt.xticks(tick_marks, classes, rotation=45)\n",
    "    plt.yticks(tick_marks, classes)\n",
    "\n",
    "    if normalize:\n",
    "        cm = cm.astype('float') / cm.sum(axis=1)[:, np.newaxis]\n",
    "        print(\"Normalized confusion matrix\")\n",
    "    else:\n",
    "        print('Confusion matrix, without normalization')\n",
    "\n",
    "    print(cm)\n",
    "\n",
    "    thresh = cm.max() / 2.\n",
    "    for i, j in itertools.product(range(cm.shape[0]), range(cm.shape[1])):\n",
    "        plt.text(j, i, cm[i, j],\n",
    "                 horizontalalignment=\"center\",\n",
    "                 color=\"white\" if cm[i, j] > thresh else \"black\")\n",
    "\n",
    "    plt.tight_layout()\n",
    "    plt.ylabel('True label')\n",
    "    plt.xlabel('Predicted label')"
   ]
  },
  {
   "cell_type": "code",
   "execution_count": 16,
   "metadata": {},
   "outputs": [
    {
     "name": "stdout",
     "output_type": "stream",
     "text": [
      "Confusion matrix, without normalization\n",
      "[[1833  158]\n",
      " [ 195  314]]\n"
     ]
    },
    {
     "data": {
      "image/png": "[encoded data removed]",
      "text/plain": [
       "<Figure size 720x576 with 2 Axes>"
      ]
     },
     "metadata": {
      "needs_background": "light"
     },
     "output_type": "display_data"
    }
   ],
   "source": [
    "#мы уже нашли ранее \"оптимальный\" порог, когда максимизировали f_score\n",
    "font = {'size' : 15}\n",
    "\n",
    "plt.rc('font', **font)\n",
    "\n",
    "cnf_matrix = confusion_matrix(y_test, preds>thresholds[ix])\n",
    "plt.figure(figsize=(10, 8))\n",
    "plot_confusion_matrix(cnf_matrix, classes=['NonChurn', 'Churn'],\n",
    "                      title='Confusion matrix')\n",
    "plt.show()"
   ]
  },
  {
   "cell_type": "markdown",
   "metadata": {},
   "source": [
    "Можно заметить, что мы очень сильно ошибаемся в сторону False Negatives, т.е у нас много тех, кто ушел в отток на самом деле, но при выбранном нами пороге в 0.38 мы не считаем их таковыми. "
   ]
  },
  {
   "cell_type": "markdown",
   "metadata": {},
   "source": [
    "### Пример с перебором параметров с помощью GridSearch"
   ]
  },
  {
   "cell_type": "markdown",
   "metadata": {},
   "source": [
    "Сетка с параметрами"
   ]
  },
  {
   "cell_type": "code",
   "execution_count": 17,
   "metadata": {},
   "outputs": [],
   "source": [
    "params={'classifier__max_features':[0.3, 0.5, 0.7],\n",
    "        'classifier__min_samples_leaf':[1, 2, 3],\n",
    "        'classifier__max_depth':[None]\n",
    "        }"
   ]
  },
  {
   "cell_type": "markdown",
   "metadata": {},
   "source": [
    "Запускаем перебор"
   ]
  },
  {
   "cell_type": "code",
   "execution_count": 18,
   "metadata": {
    "scrolled": true
   },
   "outputs": [
    {
     "name": "stdout",
     "output_type": "stream",
     "text": [
      "CPU times: user 42.2 s, sys: 42.7 ms, total: 42.2 s\n",
      "Wall time: 42.2 s\n"
     ]
    },
    {
     "data": {
      "text/plain": [
       "{'classifier__max_depth': None,\n",
       " 'classifier__max_features': 0.5,\n",
       " 'classifier__min_samples_leaf': 3}"
      ]
     },
     "execution_count": 18,
     "metadata": {},
     "output_type": "execute_result"
    }
   ],
   "source": [
    "%%time\n",
    "grid = GridSearchCV(pipeline,\n",
    "                    param_grid=params,\n",
    "                    cv=6,\n",
    "                    refit=False)\n",
    "\n",
    "search = grid.fit(X_train, y_train)\n",
    "search.best_params_"
   ]
  },
  {
   "cell_type": "markdown",
   "metadata": {},
   "source": [
    "Обучаем модель уже сновыми параметрами"
   ]
  },
  {
   "cell_type": "code",
   "execution_count": 19,
   "metadata": {},
   "outputs": [
    {
     "data": {
      "text/plain": [
       "Pipeline(memory=None,\n",
       "         steps=[('features',\n",
       "                 FeatureUnion(n_jobs=None,\n",
       "                              transformer_list=[('Geography',\n",
       "                                                 Pipeline(memory=None,\n",
       "                                                          steps=[('selector',\n",
       "                                                                  FeatureSelector(column='Geography')),\n",
       "                                                                 ('ohe',\n",
       "                                                                  OHEEncoder(key='Geography'))],\n",
       "                                                          verbose=False)),\n",
       "                                                ('Gender',\n",
       "                                                 Pipeline(memory=None,\n",
       "                                                          steps=[('selector',\n",
       "                                                                  FeatureSelector(column='Gender')),\n",
       "                                                                 ('ohe',\n",
       "                                                                  OHEEncoder(key='Gender'))],\n",
       "                                                          verbos...\n",
       "                 RandomForestClassifier(bootstrap=True, ccp_alpha=0.0,\n",
       "                                        class_weight=None, criterion='gini',\n",
       "                                        max_depth=None, max_features=0.5,\n",
       "                                        max_leaf_nodes=None, max_samples=None,\n",
       "                                        min_impurity_decrease=0.0,\n",
       "                                        min_impurity_split=None,\n",
       "                                        min_samples_leaf=3, min_samples_split=2,\n",
       "                                        min_weight_fraction_leaf=0.0,\n",
       "                                        n_estimators=100, n_jobs=None,\n",
       "                                        oob_score=False, random_state=42,\n",
       "                                        verbose=0, warm_start=False))],\n",
       "         verbose=False)"
      ]
     },
     "execution_count": 19,
     "metadata": {},
     "output_type": "execute_result"
    }
   ],
   "source": [
    "pipeline = Pipeline([\n",
    "    ('features',feats),\n",
    "    ('classifier', RandomForestClassifier(max_depth=None, max_features=0.5, \n",
    "                                          min_samples_leaf=3, random_state=42)),\n",
    "])\n",
    "pipeline.fit(X_train, y_train)"
   ]
  },
  {
   "cell_type": "code",
   "execution_count": 20,
   "metadata": {},
   "outputs": [
    {
     "name": "stdout",
     "output_type": "stream",
     "text": [
      "Best Threshold=0.389431, F-Score=0.655, Precision=0.661, Recall=0.648\n",
      "Confusion matrix, without normalization\n",
      "[[1822  169]\n",
      " [ 180  329]]\n"
     ]
    },
    {
     "data": {
      "image/png": "[encoded data removed]",
      "text/plain": [
       "<Figure size 720x576 with 2 Axes>"
      ]
     },
     "metadata": {
      "needs_background": "light"
     },
     "output_type": "display_data"
    }
   ],
   "source": [
    "preds = pipeline.predict_proba(X_test)[:, 1]\n",
    "precision, recall, thresholds = precision_recall_curve(y_test, preds)\n",
    "fscore = (2 * precision * recall) / (precision + recall)\n",
    "# locate the index of the largest f score\n",
    "ix = np.argmax(fscore)\n",
    "print('Best Threshold=%f, F-Score=%.3f, Precision=%.3f, Recall=%.3f' % (thresholds[ix], \n",
    "                                                                        fscore[ix],\n",
    "                                                                        precision[ix],\n",
    "                                                                        recall[ix]))\n",
    "\n",
    "#мы уже нашли ранее \"оптимальный\" порог, когда максимизировали f_score\n",
    "font = {'size' : 15}\n",
    "\n",
    "plt.rc('font', **font)\n",
    "\n",
    "cnf_matrix = confusion_matrix(y_test, preds>thresholds[ix])\n",
    "plt.figure(figsize=(10, 8))\n",
    "plot_confusion_matrix(cnf_matrix, classes=['NonChurn', 'Churn'],\n",
    "                      title='Confusion matrix')\n",
    "plt.show()"
   ]
  },
  {
   "cell_type": "markdown",
   "metadata": {},
   "source": [
    "***\n",
    "***\n",
    "***"
   ]
  },
  {
   "cell_type": "markdown",
   "metadata": {},
   "source": [
    "# Задачи"
   ]
  },
  {
   "cell_type": "markdown",
   "metadata": {},
   "source": [
    "1. Для нашего пайплайна (Case1) поэкспериментировать с разными моделями: 1 - бустинг, 2 - логистическая регрессия (не забудьте здесь добавить в cont_transformer стандартизацию - нормирование вещественных признаков)\n",
    "2. Отобрать лучшую модель по метрикам (кстати, какая по вашему мнению здесь наиболее подходящая DS-метрика)\n",
    "3. Для отобранной модели (на отложенной выборке) сделать оценку экономической эффективности при тех же вводных, как в вопросе 2 (1 доллар на привлечение, 2 доллара - с каждого правильно классифицированного (True Positive) удержанного). (подсказка) нужно посчитать FP/TP/FN/TN для выбранного оптимального порога вероятности и посчитать выручку и траты. "
   ]
  },
  {
   "cell_type": "code",
   "execution_count": 21,
   "metadata": {},
   "outputs": [],
   "source": [
    "def get_scores(y_true, \n",
    "               y_predicted, \n",
    "               f_score_b=1, \n",
    "               title='Confusion matrix', \n",
    "               classes=['Non_churn', 'Churn'], \n",
    "               normalize=False):\n",
    "    \"\"\"\n",
    "    calculate:\n",
    "    - precision\n",
    "    - recall\n",
    "    - fscore\n",
    "    - roc-auc\n",
    "    - confusion matrix\n",
    "    \"\"\"\n",
    "    precision, recall, thresholds = precision_recall_curve(y_true, y_predicted)\n",
    "    fscore = (1+b**2)*(precision * recall) / (b**2*precision + recall)\n",
    "    # locate the index of the largest f score\n",
    "    ix = np.argmax(fscore)\n",
    "    roc_auc = roc_auc_score(y_true, y_predicted)\n",
    "    log_loss_score = log_loss(y_true, y_predicted)\n",
    "    \n",
    "    cm = confusion_matrix(y_true, y_predicted>thresholds[ix])\n",
    "    TN = cm[0][0]\n",
    "    FN = cm[1][0]\n",
    "    TP = cm[1][1]\n",
    "    FP = cm[0][1]\n",
    "    TPR = TP/(TP+FN)\n",
    "    FPR = FP/(FP+TN)\n",
    "    TNR = TN/(FP+TN)\n",
    "    print(f'\\\n",
    "Threshhold = {thresholds[ix]:.3f}\\n\\\n",
    "Precision  = {precision[ix]:.3f}\\n\\\n",
    "Recall     = {recall[ix]:.3f}\\n\\\n",
    "F-score    = {fscore[ix]:.3f}\\n\\\n",
    "ROC_AUC    = {roc_auc:.3f}\\n\\\n",
    "Log_loss   = {log_loss_score:.3f}\\n\\\n",
    "True_pos   = {TPR:.3f}\\n\\\n",
    "False_pos  = {FPR:.3f}\\n\\\n",
    "True_neg   = {TNR:.3f}\\n')\n",
    "\n",
    "    sns.set(font_scale=1.5)\n",
    "    sns.set_color_codes(\"muted\")\n",
    "\n",
    "    plt.figure(figsize=(10, 8))\n",
    "    fpr, tpr, thresholds_ = roc_curve(y_true, y_predicted, pos_label=1)\n",
    "    lw = 2\n",
    "    plt.plot(fpr, tpr, lw=lw, label='ROC curve ')\n",
    "    plt.plot([0, 1], [0, 1])\n",
    "    plt.xlim([0.0, 1.0])\n",
    "    plt.ylim([0.0, 1.05])\n",
    "    plt.xlabel('False Positive Rate')\n",
    "    plt.ylabel('True Positive Rate')\n",
    "    plt.title('ROC curve')\n",
    "    plt.show()\n",
    "    \n",
    "    font = {'size' : 15}\n",
    "    plt.rc('font', **font)\n",
    "    plt.figure(figsize=(10, 8))\n",
    "    cmap = plt.cm.Blues\n",
    "    \"\"\"\n",
    "    This function prints and plots the confusion matrix.\n",
    "    Normalization can be applied by setting `normalize=True`.\n",
    "    \"\"\"\n",
    "    plt.imshow(cm, interpolation='nearest', cmap=cmap)\n",
    "    plt.title(title)\n",
    "    plt.colorbar()\n",
    "    tick_marks = np.arange(len(classes))\n",
    "    plt.xticks(tick_marks, classes, rotation=45)\n",
    "    plt.yticks(tick_marks, classes)\n",
    "\n",
    "    if normalize:\n",
    "        cm = cm.astype('float') / cm.sum(axis=1)[:, np.newaxis]\n",
    "        print(\"Normalized confusion matrix\")\n",
    "    else:\n",
    "        print('Confusion matrix, without normalization')\n",
    "\n",
    "    print(cm)\n",
    "\n",
    "    thresh = cm.max() / 2.\n",
    "    for i, j in itertools.product(range(cm.shape[0]), range(cm.shape[1])):\n",
    "        plt.text(j, i, cm[i, j],\n",
    "                 horizontalalignment=\"center\",\n",
    "                 color=\"white\" if cm[i, j] > thresh else \"black\")\n",
    "\n",
    "    plt.tight_layout()\n",
    "    plt.ylabel('True label')\n",
    "    plt.xlabel('Predicted label')\n",
    "    plt.show()\n",
    "    return {\n",
    "            'Threshold': thresholds[ix],\n",
    "            'Precision': precision[ix],\n",
    "            'Recall': recall[ix],\n",
    "            'F-score': fscore[ix],\n",
    "            'ROC_AUC': roc_auc,\n",
    "            'Log_loss': log_loss_score,\n",
    "            'True_pos': TPR,\n",
    "            'False_pos': FPR,\n",
    "            'True_neg': TNR,\n",
    "            'TN'      : TN,\n",
    "            'FN'      : FN,\n",
    "            'TP'      : TP,\n",
    "            'FP'      : FP\n",
    "            }"
   ]
  },
  {
   "cell_type": "code",
   "execution_count": 22,
   "metadata": {},
   "outputs": [
    {
     "name": "stdout",
     "output_type": "stream",
     "text": [
      "----------------------------------------------------------------------------\n",
      "----------------------------------------------------------------------------\n",
      "----------------------------------------------------------------------------\n",
      "LogisticRegression\n",
      "Наилучшие параметры {'classifier__C': 0.1, 'classifier__penalty': 'l2'}\n",
      "mean y_score is  0.212\n",
      "Threshhold = 0.291\n",
      "Precision  = 0.467\n",
      "Recall     = 0.562\n",
      "F-score    = 0.510\n",
      "ROC_AUC    = 0.773\n",
      "Log_loss   = 0.427\n",
      "True_pos   = 0.560\n",
      "False_pos  = 0.164\n",
      "True_neg   = 0.836\n",
      "\n"
     ]
    },
    {
     "data": {
      "image/png": "[encoded data removed]",
      "text/plain": [
       "<Figure size 720x576 with 1 Axes>"
      ]
     },
     "metadata": {},
     "output_type": "display_data"
    },
    {
     "name": "stdout",
     "output_type": "stream",
     "text": [
      "Confusion matrix, without normalization\n",
      "[[1664  327]\n",
      " [ 224  285]]\n"
     ]
    },
    {
     "data": {
      "image/png": "[encoded data removed]",
      "text/plain": [
       "<Figure size 720x576 with 2 Axes>"
      ]
     },
     "metadata": {},
     "output_type": "display_data"
    },
    {
     "name": "stdout",
     "output_type": "stream",
     "text": [
      "\n",
      "----------------------------------------------------------------------------\n",
      "----------------------------------------------------------------------------\n",
      "----------------------------------------------------------------------------\n",
      "GradientBoostingClassifier\n",
      "Наилучшие параметры {'classifier__max_depth': 2, 'classifier__n_estimators': 100}\n",
      "mean y_score is  0.215\n",
      "Threshhold = 0.378\n",
      "Precision  = 0.684\n",
      "Recall     = 0.605\n",
      "F-score    = 0.642\n",
      "ROC_AUC    = 0.865\n",
      "Log_loss   = 0.335\n",
      "True_pos   = 0.603\n",
      "False_pos  = 0.071\n",
      "True_neg   = 0.929\n",
      "\n"
     ]
    },
    {
     "data": {
      "image/png": "[encoded data removed]",
      "text/plain": [
       "<Figure size 720x576 with 1 Axes>"
      ]
     },
     "metadata": {},
     "output_type": "display_data"
    },
    {
     "name": "stdout",
     "output_type": "stream",
     "text": [
      "Confusion matrix, without normalization\n",
      "[[1849  142]\n",
      " [ 202  307]]\n"
     ]
    },
    {
     "data": {
      "image/png": "[encoded data removed]",
      "text/plain": [
       "<Figure size 720x576 with 2 Axes>"
      ]
     },
     "metadata": {},
     "output_type": "display_data"
    },
    {
     "name": "stdout",
     "output_type": "stream",
     "text": [
      "\n",
      "----------------------------------------------------------------------------\n",
      "----------------------------------------------------------------------------\n",
      "----------------------------------------------------------------------------\n",
      "CPU times: user 2.68 s, sys: 88 ms, total: 2.77 s\n",
      "Wall time: 16.7 s\n"
     ]
    }
   ],
   "source": [
    "%%time\n",
    "random_state = 42\n",
    "b = 1\n",
    "results = {}\n",
    "models_names = ['LogisticRegression', \n",
    "                'GradientBoostingClassifier']\n",
    "print('----------------------------------------------------------------------------')\n",
    "print('----------------------------------------------------------------------------')\n",
    "print('----------------------------------------------------------------------------')\n",
    "for i, model in enumerate([\n",
    "                           LogisticRegression(random_state=random_state),\n",
    "                           GradientBoostingClassifier(random_state=random_state)\n",
    "                           ]):\n",
    "    print(models_names[i])\n",
    "    pipeline = Pipeline([\n",
    "                        ('features',   feats),\n",
    "                        ('classifier', model),\n",
    "                        ])\n",
    "    # узнаем какие гиперпараметры для леса дадут наилучший результат (кроссвалидация - KFold)\n",
    "    if i == 0:\n",
    "        params = {'classifier__C': [0.001, 0.01, 0.1, 1, 10], \n",
    "                  'classifier__penalty': ['l1', 'l2']}  # l1 lasso l2 ridge\n",
    "    else:\n",
    "        params = {'classifier__n_estimators': [10, 50, 100, 200], \n",
    "                  'classifier__max_depth'   : [2, 5, 7, 10]}\n",
    "    \n",
    "    gs = GridSearchCV(pipeline, \n",
    "                      params, \n",
    "                      scoring='r2', \n",
    "                      cv=KFold(n_splits=3, random_state=42, shuffle=True), \n",
    "                      n_jobs=-1)\n",
    "    gs.fit(X_train, y_train)\n",
    "    # наилучшие параметры:\n",
    "    print('Наилучшие параметры', gs.best_params_)\n",
    "    y_score = gs.predict_proba(X_test)[:, 1]\n",
    "    print(f'mean y_score is  {round(np.mean(y_score), 3)}')\n",
    "    metrics = get_scores(y_test, y_score)\n",
    "    # отсекаем по лучшим threshold\n",
    "    threshold = metrics['Threshold']\n",
    "    y_score = y_score > threshold\n",
    "    results[models_names[i]] = [y_score, metrics]\n",
    "    print()\n",
    "    print('----------------------------------------------------------------------------')\n",
    "    print('----------------------------------------------------------------------------')\n",
    "    print('----------------------------------------------------------------------------')"
   ]
  },
  {
   "cell_type": "code",
   "execution_count": 23,
   "metadata": {},
   "outputs": [],
   "source": [
    "# Сравниваем результаты\n",
    "def df_highlight_max(s):\n",
    "    '''\n",
    "    highlight the maximum\n",
    "    '''\n",
    "    is_max = s == s.max()\n",
    "    return ['color: blue' if v else '' for v in is_max]\n",
    "\n",
    "def df_bold_max(s):\n",
    "    '''\n",
    "    bold the maximum\n",
    "    '''\n",
    "    is_max = s == s.max()\n",
    "    return ['font-weight: bold' if v else '' for v in is_max]\n",
    "\n",
    "models_acccuracy = pd.DataFrame(columns=models_names)"
   ]
  },
  {
   "cell_type": "code",
   "execution_count": 24,
   "metadata": {},
   "outputs": [
    {
     "name": "stdout",
     "output_type": "stream",
     "text": [
      "Сравнение качества получившихся данных\n",
      "по столбцам -- модель,\n",
      "по строкам -- метрика,\n",
      "цветом -- наилучшее значение\n",
      "\n"
     ]
    },
    {
     "data": {
      "text/html": [
       "<style  type=\"text/css\" >\n",
       "    #T_0c5bf012_b2a0_11eb_8b61_617aa63c7fb4row0_col1 {\n",
       "            color:  blue;\n",
       "            font-weight:  bold;\n",
       "        }    #T_0c5bf012_b2a0_11eb_8b61_617aa63c7fb4row1_col1 {\n",
       "            color:  blue;\n",
       "            font-weight:  bold;\n",
       "        }    #T_0c5bf012_b2a0_11eb_8b61_617aa63c7fb4row2_col1 {\n",
       "            color:  blue;\n",
       "            font-weight:  bold;\n",
       "        }    #T_0c5bf012_b2a0_11eb_8b61_617aa63c7fb4row3_col1 {\n",
       "            color:  blue;\n",
       "            font-weight:  bold;\n",
       "        }    #T_0c5bf012_b2a0_11eb_8b61_617aa63c7fb4row4_col1 {\n",
       "            color:  blue;\n",
       "            font-weight:  bold;\n",
       "        }    #T_0c5bf012_b2a0_11eb_8b61_617aa63c7fb4row5_col0 {\n",
       "            color:  blue;\n",
       "            font-weight:  bold;\n",
       "        }    #T_0c5bf012_b2a0_11eb_8b61_617aa63c7fb4row6_col1 {\n",
       "            color:  blue;\n",
       "            font-weight:  bold;\n",
       "        }    #T_0c5bf012_b2a0_11eb_8b61_617aa63c7fb4row7_col0 {\n",
       "            color:  blue;\n",
       "            font-weight:  bold;\n",
       "        }    #T_0c5bf012_b2a0_11eb_8b61_617aa63c7fb4row8_col1 {\n",
       "            color:  blue;\n",
       "            font-weight:  bold;\n",
       "        }    #T_0c5bf012_b2a0_11eb_8b61_617aa63c7fb4row9_col1 {\n",
       "            color:  blue;\n",
       "            font-weight:  bold;\n",
       "        }    #T_0c5bf012_b2a0_11eb_8b61_617aa63c7fb4row10_col0 {\n",
       "            color:  blue;\n",
       "            font-weight:  bold;\n",
       "        }    #T_0c5bf012_b2a0_11eb_8b61_617aa63c7fb4row11_col1 {\n",
       "            color:  blue;\n",
       "            font-weight:  bold;\n",
       "        }    #T_0c5bf012_b2a0_11eb_8b61_617aa63c7fb4row12_col0 {\n",
       "            color:  blue;\n",
       "            font-weight:  bold;\n",
       "        }</style><table id=\"T_0c5bf012_b2a0_11eb_8b61_617aa63c7fb4\" ><thead>    <tr>        <th class=\"blank level0\" ></th>        <th class=\"col_heading level0 col0\" >LogisticRegression</th>        <th class=\"col_heading level0 col1\" >GradientBoostingClassifier</th>    </tr></thead><tbody>\n",
       "                <tr>\n",
       "                        <th id=\"T_0c5bf012_b2a0_11eb_8b61_617aa63c7fb4level0_row0\" class=\"row_heading level0 row0\" >Threshold</th>\n",
       "                        <td id=\"T_0c5bf012_b2a0_11eb_8b61_617aa63c7fb4row0_col0\" class=\"data row0 col0\" >0.290711</td>\n",
       "                        <td id=\"T_0c5bf012_b2a0_11eb_8b61_617aa63c7fb4row0_col1\" class=\"data row0 col1\" >0.378441</td>\n",
       "            </tr>\n",
       "            <tr>\n",
       "                        <th id=\"T_0c5bf012_b2a0_11eb_8b61_617aa63c7fb4level0_row1\" class=\"row_heading level0 row1\" >Precision</th>\n",
       "                        <td id=\"T_0c5bf012_b2a0_11eb_8b61_617aa63c7fb4row1_col0\" class=\"data row1 col0\" >0.466558</td>\n",
       "                        <td id=\"T_0c5bf012_b2a0_11eb_8b61_617aa63c7fb4row1_col1\" class=\"data row1 col1\" >0.684444</td>\n",
       "            </tr>\n",
       "            <tr>\n",
       "                        <th id=\"T_0c5bf012_b2a0_11eb_8b61_617aa63c7fb4level0_row2\" class=\"row_heading level0 row2\" >Recall</th>\n",
       "                        <td id=\"T_0c5bf012_b2a0_11eb_8b61_617aa63c7fb4row2_col0\" class=\"data row2 col0\" >0.561886</td>\n",
       "                        <td id=\"T_0c5bf012_b2a0_11eb_8b61_617aa63c7fb4row2_col1\" class=\"data row2 col1\" >0.605108</td>\n",
       "            </tr>\n",
       "            <tr>\n",
       "                        <th id=\"T_0c5bf012_b2a0_11eb_8b61_617aa63c7fb4level0_row3\" class=\"row_heading level0 row3\" >F-score</th>\n",
       "                        <td id=\"T_0c5bf012_b2a0_11eb_8b61_617aa63c7fb4row3_col0\" class=\"data row3 col0\" >0.509804</td>\n",
       "                        <td id=\"T_0c5bf012_b2a0_11eb_8b61_617aa63c7fb4row3_col1\" class=\"data row3 col1\" >0.642336</td>\n",
       "            </tr>\n",
       "            <tr>\n",
       "                        <th id=\"T_0c5bf012_b2a0_11eb_8b61_617aa63c7fb4level0_row4\" class=\"row_heading level0 row4\" >ROC_AUC</th>\n",
       "                        <td id=\"T_0c5bf012_b2a0_11eb_8b61_617aa63c7fb4row4_col0\" class=\"data row4 col0\" >0.772628</td>\n",
       "                        <td id=\"T_0c5bf012_b2a0_11eb_8b61_617aa63c7fb4row4_col1\" class=\"data row4 col1\" >0.865382</td>\n",
       "            </tr>\n",
       "            <tr>\n",
       "                        <th id=\"T_0c5bf012_b2a0_11eb_8b61_617aa63c7fb4level0_row5\" class=\"row_heading level0 row5\" >Log_loss</th>\n",
       "                        <td id=\"T_0c5bf012_b2a0_11eb_8b61_617aa63c7fb4row5_col0\" class=\"data row5 col0\" >0.426630</td>\n",
       "                        <td id=\"T_0c5bf012_b2a0_11eb_8b61_617aa63c7fb4row5_col1\" class=\"data row5 col1\" >0.334715</td>\n",
       "            </tr>\n",
       "            <tr>\n",
       "                        <th id=\"T_0c5bf012_b2a0_11eb_8b61_617aa63c7fb4level0_row6\" class=\"row_heading level0 row6\" >True_pos</th>\n",
       "                        <td id=\"T_0c5bf012_b2a0_11eb_8b61_617aa63c7fb4row6_col0\" class=\"data row6 col0\" >0.559921</td>\n",
       "                        <td id=\"T_0c5bf012_b2a0_11eb_8b61_617aa63c7fb4row6_col1\" class=\"data row6 col1\" >0.603143</td>\n",
       "            </tr>\n",
       "            <tr>\n",
       "                        <th id=\"T_0c5bf012_b2a0_11eb_8b61_617aa63c7fb4level0_row7\" class=\"row_heading level0 row7\" >False_pos</th>\n",
       "                        <td id=\"T_0c5bf012_b2a0_11eb_8b61_617aa63c7fb4row7_col0\" class=\"data row7 col0\" >0.164239</td>\n",
       "                        <td id=\"T_0c5bf012_b2a0_11eb_8b61_617aa63c7fb4row7_col1\" class=\"data row7 col1\" >0.071321</td>\n",
       "            </tr>\n",
       "            <tr>\n",
       "                        <th id=\"T_0c5bf012_b2a0_11eb_8b61_617aa63c7fb4level0_row8\" class=\"row_heading level0 row8\" >True_neg</th>\n",
       "                        <td id=\"T_0c5bf012_b2a0_11eb_8b61_617aa63c7fb4row8_col0\" class=\"data row8 col0\" >0.835761</td>\n",
       "                        <td id=\"T_0c5bf012_b2a0_11eb_8b61_617aa63c7fb4row8_col1\" class=\"data row8 col1\" >0.928679</td>\n",
       "            </tr>\n",
       "            <tr>\n",
       "                        <th id=\"T_0c5bf012_b2a0_11eb_8b61_617aa63c7fb4level0_row9\" class=\"row_heading level0 row9\" >TN</th>\n",
       "                        <td id=\"T_0c5bf012_b2a0_11eb_8b61_617aa63c7fb4row9_col0\" class=\"data row9 col0\" >1664.000000</td>\n",
       "                        <td id=\"T_0c5bf012_b2a0_11eb_8b61_617aa63c7fb4row9_col1\" class=\"data row9 col1\" >1849.000000</td>\n",
       "            </tr>\n",
       "            <tr>\n",
       "                        <th id=\"T_0c5bf012_b2a0_11eb_8b61_617aa63c7fb4level0_row10\" class=\"row_heading level0 row10\" >FN</th>\n",
       "                        <td id=\"T_0c5bf012_b2a0_11eb_8b61_617aa63c7fb4row10_col0\" class=\"data row10 col0\" >224.000000</td>\n",
       "                        <td id=\"T_0c5bf012_b2a0_11eb_8b61_617aa63c7fb4row10_col1\" class=\"data row10 col1\" >202.000000</td>\n",
       "            </tr>\n",
       "            <tr>\n",
       "                        <th id=\"T_0c5bf012_b2a0_11eb_8b61_617aa63c7fb4level0_row11\" class=\"row_heading level0 row11\" >TP</th>\n",
       "                        <td id=\"T_0c5bf012_b2a0_11eb_8b61_617aa63c7fb4row11_col0\" class=\"data row11 col0\" >285.000000</td>\n",
       "                        <td id=\"T_0c5bf012_b2a0_11eb_8b61_617aa63c7fb4row11_col1\" class=\"data row11 col1\" >307.000000</td>\n",
       "            </tr>\n",
       "            <tr>\n",
       "                        <th id=\"T_0c5bf012_b2a0_11eb_8b61_617aa63c7fb4level0_row12\" class=\"row_heading level0 row12\" >FP</th>\n",
       "                        <td id=\"T_0c5bf012_b2a0_11eb_8b61_617aa63c7fb4row12_col0\" class=\"data row12 col0\" >327.000000</td>\n",
       "                        <td id=\"T_0c5bf012_b2a0_11eb_8b61_617aa63c7fb4row12_col1\" class=\"data row12 col1\" >142.000000</td>\n",
       "            </tr>\n",
       "    </tbody></table>"
      ],
      "text/plain": [
       "<pandas.io.formats.style.Styler at 0x7fab8f0bf750>"
      ]
     },
     "execution_count": 24,
     "metadata": {},
     "output_type": "execute_result"
    }
   ],
   "source": [
    "for i, col in enumerate(models_names):\n",
    "    if i == 0:\n",
    "        models_acccuracy = pd.DataFrame.from_dict(results[col][1], orient='index')\n",
    "    else:\n",
    "        models_acccuracy = pd.concat([models_acccuracy, \n",
    "                                       pd.DataFrame.from_dict(results[col][1], orient='index')],\n",
    "                                    axis=1)\n",
    "models_acccuracy.columns = models_names\n",
    "print('Сравнение качества получившихся данных\\nпо столбцам -- модель,\\nпо строкам -- метрика,\\n\\\n",
    "цветом -- наилучшее значение\\n')\n",
    "models_acccuracy.style.apply(df_highlight_max, axis=1).apply(df_bold_max, axis=1)"
   ]
  },
  {
   "cell_type": "markdown",
   "metadata": {},
   "source": [
    "**По совокупности результатов метрик наиболее качественная модель из рассматриваемых двух -- градиентный бустинг**  \n",
    "В данном случае, f-score позволяет делать более правильную оценку, отражая баланс precision и recall (наша бизнес-цель -- верно определить кто уйдет и кто останется)."
   ]
  },
  {
   "cell_type": "markdown",
   "metadata": {},
   "source": [
    "Для отобранной модели (на отложенной выборке) сделать оценку экономической эффективности при тех же вводных, как в вопросе 2 (1 доллар на привлечение, 2 доллара - с каждого правильно классифицированного (True Positive) удержанного)."
   ]
  },
  {
   "cell_type": "code",
   "execution_count": 25,
   "metadata": {},
   "outputs": [],
   "source": [
    "# Расчет эффективности затрат на привлечение\n",
    "cost = 1\n",
    "revenue = 2\n",
    "TN = results['GradientBoostingClassifier'][1]['TN']  # Правильно определенное удержание\n",
    "FN = results['GradientBoostingClassifier'][1]['FN']  # НЕправильно определенное удержание\n",
    "TP = results['GradientBoostingClassifier'][1]['TP']  # Правильно определенный отток\n",
    "FP = results['GradientBoostingClassifier'][1]['FP']  # НЕправильно определенный отток"
   ]
  },
  {
   "cell_type": "code",
   "execution_count": 26,
   "metadata": {},
   "outputs": [
    {
     "name": "stdout",
     "output_type": "stream",
     "text": [
      "Прибыль от удержания = 165$\n"
     ]
    }
   ],
   "source": [
    "efficency = revenue*TP - cost*(TP + FP)\n",
    "print(f'{\"Прибыль\" if efficency>=0 else \"Убыток\"} от удержания = {efficency}$')"
   ]
  }
 ],
 "metadata": {
  "kernelspec": {
   "display_name": "Python 3",
   "language": "python",
   "name": "python3"
  },
  "language_info": {
   "codemirror_mode": {
    "name": "ipython",
    "version": 3
   },
   "file_extension": ".py",
   "mimetype": "text/x-python",
   "name": "python",
   "nbconvert_exporter": "python",
   "pygments_lexer": "ipython3",
   "version": "3.7.6"
  }
 },
 "nbformat": 4,
 "nbformat_minor": 4
}
